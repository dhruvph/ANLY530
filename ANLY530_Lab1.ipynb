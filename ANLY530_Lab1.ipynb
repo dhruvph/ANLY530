{
  "nbformat": 4,
  "nbformat_minor": 0,
  "metadata": {
    "colab": {
      "name": "ANLY530-Lab1.ipynb",
      "provenance": [],
      "collapsed_sections": [],
      "toc_visible": true,
      "mount_file_id": "1eTI71VjNOf11IOAqE9ZB47Q3hGlbH0go",
      "authorship_tag": "ABX9TyMRWl7GU2XdxZNOBAnYH8+Y",
      "include_colab_link": true
    },
    "kernelspec": {
      "name": "python3",
      "display_name": "Python 3"
    }
  },
  "cells": [
    {
      "cell_type": "markdown",
      "metadata": {
        "id": "view-in-github",
        "colab_type": "text"
      },
      "source": [
        "<a href=\"https://colab.research.google.com/github/dhruvph/ANLY530/blob/main/ANLY530_Lab1.ipynb\" target=\"_parent\"><img src=\"https://colab.research.google.com/assets/colab-badge.svg\" alt=\"Open In Colab\"/></a>"
      ]
    },
    {
      "cell_type": "markdown",
      "metadata": {
        "id": "YorbtVK094Qe"
      },
      "source": [
        "# ANLY530- Laboratory #1 Classification\r\n"
      ]
    },
    {
      "cell_type": "markdown",
      "metadata": {
        "id": "4ebBsUegFoYy"
      },
      "source": [
        "## Method 1 Tree Based Classification\r\n"
      ]
    },
    {
      "cell_type": "markdown",
      "metadata": {
        "id": "Ntz3Yg80Fqqi"
      },
      "source": [
        "### Step 1: Collecting the data"
      ]
    },
    {
      "cell_type": "code",
      "metadata": {
        "id": "uWTPnvbs-Tcf",
        "colab": {
          "base_uri": "https://localhost:8080/",
          "height": 238
        },
        "outputId": "913442e5-abc3-4d09-c64a-e2172429cc00"
      },
      "source": [
        "import pandas as pd\r\n",
        "# Mounting the gdrive\r\n",
        "from google.colab import drive\r\n",
        "drive.mount('/content/drive')\r\n",
        "\r\n",
        "input_file = \"drive/My Drive/Colab Notebooks/credit.csv\"\r\n",
        "credit = pd.read_csv(input_file)\r\n",
        "\r\n",
        "credit.head()\r\n"
      ],
      "execution_count": null,
      "outputs": [
        {
          "output_type": "stream",
          "text": [
            "Drive already mounted at /content/drive; to attempt to forcibly remount, call drive.mount(\"/content/drive\", force_remount=True).\n"
          ],
          "name": "stdout"
        },
        {
          "output_type": "execute_result",
          "data": {
            "text/html": [
              "<div>\n",
              "<style scoped>\n",
              "    .dataframe tbody tr th:only-of-type {\n",
              "        vertical-align: middle;\n",
              "    }\n",
              "\n",
              "    .dataframe tbody tr th {\n",
              "        vertical-align: top;\n",
              "    }\n",
              "\n",
              "    .dataframe thead th {\n",
              "        text-align: right;\n",
              "    }\n",
              "</style>\n",
              "<table border=\"1\" class=\"dataframe\">\n",
              "  <thead>\n",
              "    <tr style=\"text-align: right;\">\n",
              "      <th></th>\n",
              "      <th>Creditability</th>\n",
              "      <th>Account Balance</th>\n",
              "      <th>Duration of Credit (month)</th>\n",
              "      <th>Payment Status of Previous Credit</th>\n",
              "      <th>Purpose</th>\n",
              "      <th>Credit Amount</th>\n",
              "      <th>Value Savings/Stocks</th>\n",
              "      <th>Length of current employment</th>\n",
              "      <th>Instalment per cent</th>\n",
              "      <th>Sex &amp; Marital Status</th>\n",
              "      <th>Guarantors</th>\n",
              "      <th>Duration in Current address</th>\n",
              "      <th>Most valuable available asset</th>\n",
              "      <th>Age (years)</th>\n",
              "      <th>Concurrent Credits</th>\n",
              "      <th>Type of apartment</th>\n",
              "      <th>No of Credits at this Bank</th>\n",
              "      <th>Occupation</th>\n",
              "      <th>No of dependents</th>\n",
              "      <th>Telephone</th>\n",
              "      <th>Foreign Worker</th>\n",
              "    </tr>\n",
              "  </thead>\n",
              "  <tbody>\n",
              "    <tr>\n",
              "      <th>0</th>\n",
              "      <td>1</td>\n",
              "      <td>1</td>\n",
              "      <td>18</td>\n",
              "      <td>4</td>\n",
              "      <td>2</td>\n",
              "      <td>1049</td>\n",
              "      <td>1</td>\n",
              "      <td>2</td>\n",
              "      <td>4</td>\n",
              "      <td>2</td>\n",
              "      <td>1</td>\n",
              "      <td>4</td>\n",
              "      <td>2</td>\n",
              "      <td>21</td>\n",
              "      <td>3</td>\n",
              "      <td>1</td>\n",
              "      <td>1</td>\n",
              "      <td>3</td>\n",
              "      <td>1</td>\n",
              "      <td>1</td>\n",
              "      <td>1</td>\n",
              "    </tr>\n",
              "    <tr>\n",
              "      <th>1</th>\n",
              "      <td>1</td>\n",
              "      <td>1</td>\n",
              "      <td>9</td>\n",
              "      <td>4</td>\n",
              "      <td>0</td>\n",
              "      <td>2799</td>\n",
              "      <td>1</td>\n",
              "      <td>3</td>\n",
              "      <td>2</td>\n",
              "      <td>3</td>\n",
              "      <td>1</td>\n",
              "      <td>2</td>\n",
              "      <td>1</td>\n",
              "      <td>36</td>\n",
              "      <td>3</td>\n",
              "      <td>1</td>\n",
              "      <td>2</td>\n",
              "      <td>3</td>\n",
              "      <td>2</td>\n",
              "      <td>1</td>\n",
              "      <td>1</td>\n",
              "    </tr>\n",
              "    <tr>\n",
              "      <th>2</th>\n",
              "      <td>1</td>\n",
              "      <td>2</td>\n",
              "      <td>12</td>\n",
              "      <td>2</td>\n",
              "      <td>9</td>\n",
              "      <td>841</td>\n",
              "      <td>2</td>\n",
              "      <td>4</td>\n",
              "      <td>2</td>\n",
              "      <td>2</td>\n",
              "      <td>1</td>\n",
              "      <td>4</td>\n",
              "      <td>1</td>\n",
              "      <td>23</td>\n",
              "      <td>3</td>\n",
              "      <td>1</td>\n",
              "      <td>1</td>\n",
              "      <td>2</td>\n",
              "      <td>1</td>\n",
              "      <td>1</td>\n",
              "      <td>1</td>\n",
              "    </tr>\n",
              "    <tr>\n",
              "      <th>3</th>\n",
              "      <td>1</td>\n",
              "      <td>1</td>\n",
              "      <td>12</td>\n",
              "      <td>4</td>\n",
              "      <td>0</td>\n",
              "      <td>2122</td>\n",
              "      <td>1</td>\n",
              "      <td>3</td>\n",
              "      <td>3</td>\n",
              "      <td>3</td>\n",
              "      <td>1</td>\n",
              "      <td>2</td>\n",
              "      <td>1</td>\n",
              "      <td>39</td>\n",
              "      <td>3</td>\n",
              "      <td>1</td>\n",
              "      <td>2</td>\n",
              "      <td>2</td>\n",
              "      <td>2</td>\n",
              "      <td>1</td>\n",
              "      <td>2</td>\n",
              "    </tr>\n",
              "    <tr>\n",
              "      <th>4</th>\n",
              "      <td>1</td>\n",
              "      <td>1</td>\n",
              "      <td>12</td>\n",
              "      <td>4</td>\n",
              "      <td>0</td>\n",
              "      <td>2171</td>\n",
              "      <td>1</td>\n",
              "      <td>3</td>\n",
              "      <td>4</td>\n",
              "      <td>3</td>\n",
              "      <td>1</td>\n",
              "      <td>4</td>\n",
              "      <td>2</td>\n",
              "      <td>38</td>\n",
              "      <td>1</td>\n",
              "      <td>2</td>\n",
              "      <td>2</td>\n",
              "      <td>2</td>\n",
              "      <td>1</td>\n",
              "      <td>1</td>\n",
              "      <td>2</td>\n",
              "    </tr>\n",
              "  </tbody>\n",
              "</table>\n",
              "</div>"
            ],
            "text/plain": [
              "   Creditability  Account Balance  ...  Telephone  Foreign Worker\n",
              "0              1                1  ...          1               1\n",
              "1              1                1  ...          1               1\n",
              "2              1                2  ...          1               1\n",
              "3              1                1  ...          1               2\n",
              "4              1                1  ...          1               2\n",
              "\n",
              "[5 rows x 21 columns]"
            ]
          },
          "metadata": {
            "tags": []
          },
          "execution_count": 8
        }
      ]
    },
    {
      "cell_type": "code",
      "metadata": {
        "colab": {
          "base_uri": "https://localhost:8080/",
          "height": 314
        },
        "id": "my8Yb4M1B2Kn",
        "outputId": "5fff67fc-30bd-456f-86c5-9855502532b6"
      },
      "source": [
        "credit.describe()"
      ],
      "execution_count": null,
      "outputs": [
        {
          "output_type": "execute_result",
          "data": {
            "text/html": [
              "<div>\n",
              "<style scoped>\n",
              "    .dataframe tbody tr th:only-of-type {\n",
              "        vertical-align: middle;\n",
              "    }\n",
              "\n",
              "    .dataframe tbody tr th {\n",
              "        vertical-align: top;\n",
              "    }\n",
              "\n",
              "    .dataframe thead th {\n",
              "        text-align: right;\n",
              "    }\n",
              "</style>\n",
              "<table border=\"1\" class=\"dataframe\">\n",
              "  <thead>\n",
              "    <tr style=\"text-align: right;\">\n",
              "      <th></th>\n",
              "      <th>Creditability</th>\n",
              "      <th>Account Balance</th>\n",
              "      <th>Duration of Credit (month)</th>\n",
              "      <th>Payment Status of Previous Credit</th>\n",
              "      <th>Purpose</th>\n",
              "      <th>Credit Amount</th>\n",
              "      <th>Value Savings/Stocks</th>\n",
              "      <th>Length of current employment</th>\n",
              "      <th>Instalment per cent</th>\n",
              "      <th>Sex &amp; Marital Status</th>\n",
              "      <th>Guarantors</th>\n",
              "      <th>Duration in Current address</th>\n",
              "      <th>Most valuable available asset</th>\n",
              "      <th>Age (years)</th>\n",
              "      <th>Concurrent Credits</th>\n",
              "      <th>Type of apartment</th>\n",
              "      <th>No of Credits at this Bank</th>\n",
              "      <th>Occupation</th>\n",
              "      <th>No of dependents</th>\n",
              "      <th>Telephone</th>\n",
              "      <th>Foreign Worker</th>\n",
              "    </tr>\n",
              "  </thead>\n",
              "  <tbody>\n",
              "    <tr>\n",
              "      <th>count</th>\n",
              "      <td>1000.000000</td>\n",
              "      <td>1000.000000</td>\n",
              "      <td>1000.000000</td>\n",
              "      <td>1000.00000</td>\n",
              "      <td>1000.000000</td>\n",
              "      <td>1000.00000</td>\n",
              "      <td>1000.000000</td>\n",
              "      <td>1000.000000</td>\n",
              "      <td>1000.000000</td>\n",
              "      <td>1000.00000</td>\n",
              "      <td>1000.000000</td>\n",
              "      <td>1000.000000</td>\n",
              "      <td>1000.000000</td>\n",
              "      <td>1000.00000</td>\n",
              "      <td>1000.000000</td>\n",
              "      <td>1000.000000</td>\n",
              "      <td>1000.000000</td>\n",
              "      <td>1000.000000</td>\n",
              "      <td>1000.000000</td>\n",
              "      <td>1000.000000</td>\n",
              "      <td>1000.000000</td>\n",
              "    </tr>\n",
              "    <tr>\n",
              "      <th>mean</th>\n",
              "      <td>0.700000</td>\n",
              "      <td>2.577000</td>\n",
              "      <td>20.903000</td>\n",
              "      <td>2.54500</td>\n",
              "      <td>2.828000</td>\n",
              "      <td>3271.24800</td>\n",
              "      <td>2.105000</td>\n",
              "      <td>3.384000</td>\n",
              "      <td>2.973000</td>\n",
              "      <td>2.68200</td>\n",
              "      <td>1.145000</td>\n",
              "      <td>2.845000</td>\n",
              "      <td>2.358000</td>\n",
              "      <td>35.54200</td>\n",
              "      <td>2.675000</td>\n",
              "      <td>1.928000</td>\n",
              "      <td>1.407000</td>\n",
              "      <td>2.904000</td>\n",
              "      <td>1.155000</td>\n",
              "      <td>1.404000</td>\n",
              "      <td>1.037000</td>\n",
              "    </tr>\n",
              "    <tr>\n",
              "      <th>std</th>\n",
              "      <td>0.458487</td>\n",
              "      <td>1.257638</td>\n",
              "      <td>12.058814</td>\n",
              "      <td>1.08312</td>\n",
              "      <td>2.744439</td>\n",
              "      <td>2822.75176</td>\n",
              "      <td>1.580023</td>\n",
              "      <td>1.208306</td>\n",
              "      <td>1.118715</td>\n",
              "      <td>0.70808</td>\n",
              "      <td>0.477706</td>\n",
              "      <td>1.103718</td>\n",
              "      <td>1.050209</td>\n",
              "      <td>11.35267</td>\n",
              "      <td>0.705601</td>\n",
              "      <td>0.530186</td>\n",
              "      <td>0.577654</td>\n",
              "      <td>0.653614</td>\n",
              "      <td>0.362086</td>\n",
              "      <td>0.490943</td>\n",
              "      <td>0.188856</td>\n",
              "    </tr>\n",
              "    <tr>\n",
              "      <th>min</th>\n",
              "      <td>0.000000</td>\n",
              "      <td>1.000000</td>\n",
              "      <td>4.000000</td>\n",
              "      <td>0.00000</td>\n",
              "      <td>0.000000</td>\n",
              "      <td>250.00000</td>\n",
              "      <td>1.000000</td>\n",
              "      <td>1.000000</td>\n",
              "      <td>1.000000</td>\n",
              "      <td>1.00000</td>\n",
              "      <td>1.000000</td>\n",
              "      <td>1.000000</td>\n",
              "      <td>1.000000</td>\n",
              "      <td>19.00000</td>\n",
              "      <td>1.000000</td>\n",
              "      <td>1.000000</td>\n",
              "      <td>1.000000</td>\n",
              "      <td>1.000000</td>\n",
              "      <td>1.000000</td>\n",
              "      <td>1.000000</td>\n",
              "      <td>1.000000</td>\n",
              "    </tr>\n",
              "    <tr>\n",
              "      <th>25%</th>\n",
              "      <td>0.000000</td>\n",
              "      <td>1.000000</td>\n",
              "      <td>12.000000</td>\n",
              "      <td>2.00000</td>\n",
              "      <td>1.000000</td>\n",
              "      <td>1365.50000</td>\n",
              "      <td>1.000000</td>\n",
              "      <td>3.000000</td>\n",
              "      <td>2.000000</td>\n",
              "      <td>2.00000</td>\n",
              "      <td>1.000000</td>\n",
              "      <td>2.000000</td>\n",
              "      <td>1.000000</td>\n",
              "      <td>27.00000</td>\n",
              "      <td>3.000000</td>\n",
              "      <td>2.000000</td>\n",
              "      <td>1.000000</td>\n",
              "      <td>3.000000</td>\n",
              "      <td>1.000000</td>\n",
              "      <td>1.000000</td>\n",
              "      <td>1.000000</td>\n",
              "    </tr>\n",
              "    <tr>\n",
              "      <th>50%</th>\n",
              "      <td>1.000000</td>\n",
              "      <td>2.000000</td>\n",
              "      <td>18.000000</td>\n",
              "      <td>2.00000</td>\n",
              "      <td>2.000000</td>\n",
              "      <td>2319.50000</td>\n",
              "      <td>1.000000</td>\n",
              "      <td>3.000000</td>\n",
              "      <td>3.000000</td>\n",
              "      <td>3.00000</td>\n",
              "      <td>1.000000</td>\n",
              "      <td>3.000000</td>\n",
              "      <td>2.000000</td>\n",
              "      <td>33.00000</td>\n",
              "      <td>3.000000</td>\n",
              "      <td>2.000000</td>\n",
              "      <td>1.000000</td>\n",
              "      <td>3.000000</td>\n",
              "      <td>1.000000</td>\n",
              "      <td>1.000000</td>\n",
              "      <td>1.000000</td>\n",
              "    </tr>\n",
              "    <tr>\n",
              "      <th>75%</th>\n",
              "      <td>1.000000</td>\n",
              "      <td>4.000000</td>\n",
              "      <td>24.000000</td>\n",
              "      <td>4.00000</td>\n",
              "      <td>3.000000</td>\n",
              "      <td>3972.25000</td>\n",
              "      <td>3.000000</td>\n",
              "      <td>5.000000</td>\n",
              "      <td>4.000000</td>\n",
              "      <td>3.00000</td>\n",
              "      <td>1.000000</td>\n",
              "      <td>4.000000</td>\n",
              "      <td>3.000000</td>\n",
              "      <td>42.00000</td>\n",
              "      <td>3.000000</td>\n",
              "      <td>2.000000</td>\n",
              "      <td>2.000000</td>\n",
              "      <td>3.000000</td>\n",
              "      <td>1.000000</td>\n",
              "      <td>2.000000</td>\n",
              "      <td>1.000000</td>\n",
              "    </tr>\n",
              "    <tr>\n",
              "      <th>max</th>\n",
              "      <td>1.000000</td>\n",
              "      <td>4.000000</td>\n",
              "      <td>72.000000</td>\n",
              "      <td>4.00000</td>\n",
              "      <td>10.000000</td>\n",
              "      <td>18424.00000</td>\n",
              "      <td>5.000000</td>\n",
              "      <td>5.000000</td>\n",
              "      <td>4.000000</td>\n",
              "      <td>4.00000</td>\n",
              "      <td>3.000000</td>\n",
              "      <td>4.000000</td>\n",
              "      <td>4.000000</td>\n",
              "      <td>75.00000</td>\n",
              "      <td>3.000000</td>\n",
              "      <td>3.000000</td>\n",
              "      <td>4.000000</td>\n",
              "      <td>4.000000</td>\n",
              "      <td>2.000000</td>\n",
              "      <td>2.000000</td>\n",
              "      <td>2.000000</td>\n",
              "    </tr>\n",
              "  </tbody>\n",
              "</table>\n",
              "</div>"
            ],
            "text/plain": [
              "       Creditability  Account Balance  ...    Telephone  Foreign Worker\n",
              "count    1000.000000      1000.000000  ...  1000.000000     1000.000000\n",
              "mean        0.700000         2.577000  ...     1.404000        1.037000\n",
              "std         0.458487         1.257638  ...     0.490943        0.188856\n",
              "min         0.000000         1.000000  ...     1.000000        1.000000\n",
              "25%         0.000000         1.000000  ...     1.000000        1.000000\n",
              "50%         1.000000         2.000000  ...     1.000000        1.000000\n",
              "75%         1.000000         4.000000  ...     2.000000        1.000000\n",
              "max         1.000000         4.000000  ...     2.000000        2.000000\n",
              "\n",
              "[8 rows x 21 columns]"
            ]
          },
          "metadata": {
            "tags": []
          },
          "execution_count": 7
        }
      ]
    },
    {
      "cell_type": "markdown",
      "metadata": {
        "id": "Q-drx0fjBpKq"
      },
      "source": [
        "### Step 2: Exploring the data"
      ]
    },
    {
      "cell_type": "code",
      "metadata": {
        "id": "85Wua5oj_k77",
        "colab": {
          "base_uri": "https://localhost:8080/"
        },
        "outputId": "53961f22-acc9-4464-ba83-9c517fd42795"
      },
      "source": [
        "credit.info()"
      ],
      "execution_count": null,
      "outputs": [
        {
          "output_type": "stream",
          "text": [
            "<class 'pandas.core.frame.DataFrame'>\n",
            "RangeIndex: 1000 entries, 0 to 999\n",
            "Data columns (total 21 columns):\n",
            " #   Column                             Non-Null Count  Dtype\n",
            "---  ------                             --------------  -----\n",
            " 0   Creditability                      1000 non-null   int64\n",
            " 1   Account Balance                    1000 non-null   int64\n",
            " 2   Duration of Credit (month)         1000 non-null   int64\n",
            " 3   Payment Status of Previous Credit  1000 non-null   int64\n",
            " 4   Purpose                            1000 non-null   int64\n",
            " 5   Credit Amount                      1000 non-null   int64\n",
            " 6   Value Savings/Stocks               1000 non-null   int64\n",
            " 7   Length of current employment       1000 non-null   int64\n",
            " 8   Instalment per cent                1000 non-null   int64\n",
            " 9   Sex & Marital Status               1000 non-null   int64\n",
            " 10  Guarantors                         1000 non-null   int64\n",
            " 11  Duration in Current address        1000 non-null   int64\n",
            " 12  Most valuable available asset      1000 non-null   int64\n",
            " 13  Age (years)                        1000 non-null   int64\n",
            " 14  Concurrent Credits                 1000 non-null   int64\n",
            " 15  Type of apartment                  1000 non-null   int64\n",
            " 16  No of Credits at this Bank         1000 non-null   int64\n",
            " 17  Occupation                         1000 non-null   int64\n",
            " 18  No of dependents                   1000 non-null   int64\n",
            " 19  Telephone                          1000 non-null   int64\n",
            " 20  Foreign Worker                     1000 non-null   int64\n",
            "dtypes: int64(21)\n",
            "memory usage: 164.2 KB\n"
          ],
          "name": "stdout"
        }
      ]
    },
    {
      "cell_type": "code",
      "metadata": {
        "colab": {
          "base_uri": "https://localhost:8080/"
        },
        "id": "ZG81vUpPB6kA",
        "outputId": "741c1e94-f5e0-4c57-a147-8731a221cbe7"
      },
      "source": [
        "target = credit['Creditability']\r\n",
        "\r\n",
        "target.value_counts()"
      ],
      "execution_count": null,
      "outputs": [
        {
          "output_type": "execute_result",
          "data": {
            "text/plain": [
              "1    700\n",
              "0    300\n",
              "Name: Creditability, dtype: int64"
            ]
          },
          "metadata": {
            "tags": []
          },
          "execution_count": 10
        }
      ]
    },
    {
      "cell_type": "markdown",
      "metadata": {
        "id": "1wub9nJmCUb6"
      },
      "source": [
        "Split data into training and test sets\r\n",
        "\r\n",
        "#### Method 1:"
      ]
    },
    {
      "cell_type": "code",
      "metadata": {
        "colab": {
          "base_uri": "https://localhost:8080/",
          "height": 221
        },
        "id": "zqiAJzt0Cc5g",
        "outputId": "02f900db-2054-4e1a-d6c3-bf70af82c201"
      },
      "source": [
        "# Generate random numbers\r\n",
        "import random\r\n",
        "random.seed(12345)\r\n",
        "indx = random.sample(range(0, 1000), 1000)\r\n",
        "credit_rand = credit.iloc[indx]\r\n",
        "target_rand = target.iloc[indx]\r\n",
        "\r\n",
        "credit_rand.head(5)"
      ],
      "execution_count": null,
      "outputs": [
        {
          "output_type": "execute_result",
          "data": {
            "text/html": [
              "<div>\n",
              "<style scoped>\n",
              "    .dataframe tbody tr th:only-of-type {\n",
              "        vertical-align: middle;\n",
              "    }\n",
              "\n",
              "    .dataframe tbody tr th {\n",
              "        vertical-align: top;\n",
              "    }\n",
              "\n",
              "    .dataframe thead th {\n",
              "        text-align: right;\n",
              "    }\n",
              "</style>\n",
              "<table border=\"1\" class=\"dataframe\">\n",
              "  <thead>\n",
              "    <tr style=\"text-align: right;\">\n",
              "      <th></th>\n",
              "      <th>Creditability</th>\n",
              "      <th>Account Balance</th>\n",
              "      <th>Duration of Credit (month)</th>\n",
              "      <th>Payment Status of Previous Credit</th>\n",
              "      <th>Purpose</th>\n",
              "      <th>Credit Amount</th>\n",
              "      <th>Value Savings/Stocks</th>\n",
              "      <th>Length of current employment</th>\n",
              "      <th>Instalment per cent</th>\n",
              "      <th>Sex &amp; Marital Status</th>\n",
              "      <th>Guarantors</th>\n",
              "      <th>Duration in Current address</th>\n",
              "      <th>Most valuable available asset</th>\n",
              "      <th>Age (years)</th>\n",
              "      <th>Concurrent Credits</th>\n",
              "      <th>Type of apartment</th>\n",
              "      <th>No of Credits at this Bank</th>\n",
              "      <th>Occupation</th>\n",
              "      <th>No of dependents</th>\n",
              "      <th>Telephone</th>\n",
              "      <th>Foreign Worker</th>\n",
              "    </tr>\n",
              "  </thead>\n",
              "  <tbody>\n",
              "    <tr>\n",
              "      <th>426</th>\n",
              "      <td>1</td>\n",
              "      <td>2</td>\n",
              "      <td>39</td>\n",
              "      <td>3</td>\n",
              "      <td>6</td>\n",
              "      <td>11760</td>\n",
              "      <td>2</td>\n",
              "      <td>4</td>\n",
              "      <td>2</td>\n",
              "      <td>3</td>\n",
              "      <td>1</td>\n",
              "      <td>3</td>\n",
              "      <td>4</td>\n",
              "      <td>32</td>\n",
              "      <td>3</td>\n",
              "      <td>1</td>\n",
              "      <td>1</td>\n",
              "      <td>3</td>\n",
              "      <td>1</td>\n",
              "      <td>2</td>\n",
              "      <td>1</td>\n",
              "    </tr>\n",
              "    <tr>\n",
              "      <th>750</th>\n",
              "      <td>1</td>\n",
              "      <td>2</td>\n",
              "      <td>36</td>\n",
              "      <td>3</td>\n",
              "      <td>0</td>\n",
              "      <td>2862</td>\n",
              "      <td>2</td>\n",
              "      <td>5</td>\n",
              "      <td>4</td>\n",
              "      <td>3</td>\n",
              "      <td>1</td>\n",
              "      <td>3</td>\n",
              "      <td>4</td>\n",
              "      <td>30</td>\n",
              "      <td>3</td>\n",
              "      <td>3</td>\n",
              "      <td>1</td>\n",
              "      <td>3</td>\n",
              "      <td>1</td>\n",
              "      <td>1</td>\n",
              "      <td>1</td>\n",
              "    </tr>\n",
              "    <tr>\n",
              "      <th>10</th>\n",
              "      <td>1</td>\n",
              "      <td>1</td>\n",
              "      <td>11</td>\n",
              "      <td>4</td>\n",
              "      <td>0</td>\n",
              "      <td>3905</td>\n",
              "      <td>1</td>\n",
              "      <td>3</td>\n",
              "      <td>2</td>\n",
              "      <td>3</td>\n",
              "      <td>1</td>\n",
              "      <td>2</td>\n",
              "      <td>1</td>\n",
              "      <td>36</td>\n",
              "      <td>3</td>\n",
              "      <td>1</td>\n",
              "      <td>2</td>\n",
              "      <td>3</td>\n",
              "      <td>2</td>\n",
              "      <td>1</td>\n",
              "      <td>1</td>\n",
              "    </tr>\n",
              "    <tr>\n",
              "      <th>839</th>\n",
              "      <td>0</td>\n",
              "      <td>4</td>\n",
              "      <td>12</td>\n",
              "      <td>2</td>\n",
              "      <td>0</td>\n",
              "      <td>1386</td>\n",
              "      <td>3</td>\n",
              "      <td>3</td>\n",
              "      <td>2</td>\n",
              "      <td>2</td>\n",
              "      <td>1</td>\n",
              "      <td>2</td>\n",
              "      <td>2</td>\n",
              "      <td>26</td>\n",
              "      <td>3</td>\n",
              "      <td>2</td>\n",
              "      <td>1</td>\n",
              "      <td>3</td>\n",
              "      <td>1</td>\n",
              "      <td>1</td>\n",
              "      <td>1</td>\n",
              "    </tr>\n",
              "    <tr>\n",
              "      <th>845</th>\n",
              "      <td>0</td>\n",
              "      <td>2</td>\n",
              "      <td>27</td>\n",
              "      <td>4</td>\n",
              "      <td>3</td>\n",
              "      <td>2520</td>\n",
              "      <td>3</td>\n",
              "      <td>3</td>\n",
              "      <td>4</td>\n",
              "      <td>3</td>\n",
              "      <td>1</td>\n",
              "      <td>2</td>\n",
              "      <td>2</td>\n",
              "      <td>23</td>\n",
              "      <td>3</td>\n",
              "      <td>2</td>\n",
              "      <td>2</td>\n",
              "      <td>2</td>\n",
              "      <td>1</td>\n",
              "      <td>1</td>\n",
              "      <td>1</td>\n",
              "    </tr>\n",
              "  </tbody>\n",
              "</table>\n",
              "</div>"
            ],
            "text/plain": [
              "     Creditability  Account Balance  ...  Telephone  Foreign Worker\n",
              "426              1                2  ...          2               1\n",
              "750              1                2  ...          1               1\n",
              "10               1                1  ...          1               1\n",
              "839              0                4  ...          1               1\n",
              "845              0                2  ...          1               1\n",
              "\n",
              "[5 rows x 21 columns]"
            ]
          },
          "metadata": {
            "tags": []
          },
          "execution_count": 16
        }
      ]
    },
    {
      "cell_type": "code",
      "metadata": {
        "colab": {
          "base_uri": "https://localhost:8080/",
          "height": 314
        },
        "id": "sOGrZ3lmDgLl",
        "outputId": "c2295dd6-f29c-45cd-ffb5-eabe224282b9"
      },
      "source": [
        "credit_rand.describe()"
      ],
      "execution_count": null,
      "outputs": [
        {
          "output_type": "execute_result",
          "data": {
            "text/html": [
              "<div>\n",
              "<style scoped>\n",
              "    .dataframe tbody tr th:only-of-type {\n",
              "        vertical-align: middle;\n",
              "    }\n",
              "\n",
              "    .dataframe tbody tr th {\n",
              "        vertical-align: top;\n",
              "    }\n",
              "\n",
              "    .dataframe thead th {\n",
              "        text-align: right;\n",
              "    }\n",
              "</style>\n",
              "<table border=\"1\" class=\"dataframe\">\n",
              "  <thead>\n",
              "    <tr style=\"text-align: right;\">\n",
              "      <th></th>\n",
              "      <th>Creditability</th>\n",
              "      <th>Account Balance</th>\n",
              "      <th>Duration of Credit (month)</th>\n",
              "      <th>Payment Status of Previous Credit</th>\n",
              "      <th>Purpose</th>\n",
              "      <th>Credit Amount</th>\n",
              "      <th>Value Savings/Stocks</th>\n",
              "      <th>Length of current employment</th>\n",
              "      <th>Instalment per cent</th>\n",
              "      <th>Sex &amp; Marital Status</th>\n",
              "      <th>Guarantors</th>\n",
              "      <th>Duration in Current address</th>\n",
              "      <th>Most valuable available asset</th>\n",
              "      <th>Age (years)</th>\n",
              "      <th>Concurrent Credits</th>\n",
              "      <th>Type of apartment</th>\n",
              "      <th>No of Credits at this Bank</th>\n",
              "      <th>Occupation</th>\n",
              "      <th>No of dependents</th>\n",
              "      <th>Telephone</th>\n",
              "      <th>Foreign Worker</th>\n",
              "    </tr>\n",
              "  </thead>\n",
              "  <tbody>\n",
              "    <tr>\n",
              "      <th>count</th>\n",
              "      <td>1000.000000</td>\n",
              "      <td>1000.000000</td>\n",
              "      <td>1000.000000</td>\n",
              "      <td>1000.00000</td>\n",
              "      <td>1000.000000</td>\n",
              "      <td>1000.00000</td>\n",
              "      <td>1000.000000</td>\n",
              "      <td>1000.000000</td>\n",
              "      <td>1000.000000</td>\n",
              "      <td>1000.00000</td>\n",
              "      <td>1000.000000</td>\n",
              "      <td>1000.000000</td>\n",
              "      <td>1000.000000</td>\n",
              "      <td>1000.00000</td>\n",
              "      <td>1000.000000</td>\n",
              "      <td>1000.000000</td>\n",
              "      <td>1000.000000</td>\n",
              "      <td>1000.000000</td>\n",
              "      <td>1000.000000</td>\n",
              "      <td>1000.000000</td>\n",
              "      <td>1000.000000</td>\n",
              "    </tr>\n",
              "    <tr>\n",
              "      <th>mean</th>\n",
              "      <td>0.700000</td>\n",
              "      <td>2.577000</td>\n",
              "      <td>20.903000</td>\n",
              "      <td>2.54500</td>\n",
              "      <td>2.828000</td>\n",
              "      <td>3271.24800</td>\n",
              "      <td>2.105000</td>\n",
              "      <td>3.384000</td>\n",
              "      <td>2.973000</td>\n",
              "      <td>2.68200</td>\n",
              "      <td>1.145000</td>\n",
              "      <td>2.845000</td>\n",
              "      <td>2.358000</td>\n",
              "      <td>35.54200</td>\n",
              "      <td>2.675000</td>\n",
              "      <td>1.928000</td>\n",
              "      <td>1.407000</td>\n",
              "      <td>2.904000</td>\n",
              "      <td>1.155000</td>\n",
              "      <td>1.404000</td>\n",
              "      <td>1.037000</td>\n",
              "    </tr>\n",
              "    <tr>\n",
              "      <th>std</th>\n",
              "      <td>0.458487</td>\n",
              "      <td>1.257638</td>\n",
              "      <td>12.058814</td>\n",
              "      <td>1.08312</td>\n",
              "      <td>2.744439</td>\n",
              "      <td>2822.75176</td>\n",
              "      <td>1.580023</td>\n",
              "      <td>1.208306</td>\n",
              "      <td>1.118715</td>\n",
              "      <td>0.70808</td>\n",
              "      <td>0.477706</td>\n",
              "      <td>1.103718</td>\n",
              "      <td>1.050209</td>\n",
              "      <td>11.35267</td>\n",
              "      <td>0.705601</td>\n",
              "      <td>0.530186</td>\n",
              "      <td>0.577654</td>\n",
              "      <td>0.653614</td>\n",
              "      <td>0.362086</td>\n",
              "      <td>0.490943</td>\n",
              "      <td>0.188856</td>\n",
              "    </tr>\n",
              "    <tr>\n",
              "      <th>min</th>\n",
              "      <td>0.000000</td>\n",
              "      <td>1.000000</td>\n",
              "      <td>4.000000</td>\n",
              "      <td>0.00000</td>\n",
              "      <td>0.000000</td>\n",
              "      <td>250.00000</td>\n",
              "      <td>1.000000</td>\n",
              "      <td>1.000000</td>\n",
              "      <td>1.000000</td>\n",
              "      <td>1.00000</td>\n",
              "      <td>1.000000</td>\n",
              "      <td>1.000000</td>\n",
              "      <td>1.000000</td>\n",
              "      <td>19.00000</td>\n",
              "      <td>1.000000</td>\n",
              "      <td>1.000000</td>\n",
              "      <td>1.000000</td>\n",
              "      <td>1.000000</td>\n",
              "      <td>1.000000</td>\n",
              "      <td>1.000000</td>\n",
              "      <td>1.000000</td>\n",
              "    </tr>\n",
              "    <tr>\n",
              "      <th>25%</th>\n",
              "      <td>0.000000</td>\n",
              "      <td>1.000000</td>\n",
              "      <td>12.000000</td>\n",
              "      <td>2.00000</td>\n",
              "      <td>1.000000</td>\n",
              "      <td>1365.50000</td>\n",
              "      <td>1.000000</td>\n",
              "      <td>3.000000</td>\n",
              "      <td>2.000000</td>\n",
              "      <td>2.00000</td>\n",
              "      <td>1.000000</td>\n",
              "      <td>2.000000</td>\n",
              "      <td>1.000000</td>\n",
              "      <td>27.00000</td>\n",
              "      <td>3.000000</td>\n",
              "      <td>2.000000</td>\n",
              "      <td>1.000000</td>\n",
              "      <td>3.000000</td>\n",
              "      <td>1.000000</td>\n",
              "      <td>1.000000</td>\n",
              "      <td>1.000000</td>\n",
              "    </tr>\n",
              "    <tr>\n",
              "      <th>50%</th>\n",
              "      <td>1.000000</td>\n",
              "      <td>2.000000</td>\n",
              "      <td>18.000000</td>\n",
              "      <td>2.00000</td>\n",
              "      <td>2.000000</td>\n",
              "      <td>2319.50000</td>\n",
              "      <td>1.000000</td>\n",
              "      <td>3.000000</td>\n",
              "      <td>3.000000</td>\n",
              "      <td>3.00000</td>\n",
              "      <td>1.000000</td>\n",
              "      <td>3.000000</td>\n",
              "      <td>2.000000</td>\n",
              "      <td>33.00000</td>\n",
              "      <td>3.000000</td>\n",
              "      <td>2.000000</td>\n",
              "      <td>1.000000</td>\n",
              "      <td>3.000000</td>\n",
              "      <td>1.000000</td>\n",
              "      <td>1.000000</td>\n",
              "      <td>1.000000</td>\n",
              "    </tr>\n",
              "    <tr>\n",
              "      <th>75%</th>\n",
              "      <td>1.000000</td>\n",
              "      <td>4.000000</td>\n",
              "      <td>24.000000</td>\n",
              "      <td>4.00000</td>\n",
              "      <td>3.000000</td>\n",
              "      <td>3972.25000</td>\n",
              "      <td>3.000000</td>\n",
              "      <td>5.000000</td>\n",
              "      <td>4.000000</td>\n",
              "      <td>3.00000</td>\n",
              "      <td>1.000000</td>\n",
              "      <td>4.000000</td>\n",
              "      <td>3.000000</td>\n",
              "      <td>42.00000</td>\n",
              "      <td>3.000000</td>\n",
              "      <td>2.000000</td>\n",
              "      <td>2.000000</td>\n",
              "      <td>3.000000</td>\n",
              "      <td>1.000000</td>\n",
              "      <td>2.000000</td>\n",
              "      <td>1.000000</td>\n",
              "    </tr>\n",
              "    <tr>\n",
              "      <th>max</th>\n",
              "      <td>1.000000</td>\n",
              "      <td>4.000000</td>\n",
              "      <td>72.000000</td>\n",
              "      <td>4.00000</td>\n",
              "      <td>10.000000</td>\n",
              "      <td>18424.00000</td>\n",
              "      <td>5.000000</td>\n",
              "      <td>5.000000</td>\n",
              "      <td>4.000000</td>\n",
              "      <td>4.00000</td>\n",
              "      <td>3.000000</td>\n",
              "      <td>4.000000</td>\n",
              "      <td>4.000000</td>\n",
              "      <td>75.00000</td>\n",
              "      <td>3.000000</td>\n",
              "      <td>3.000000</td>\n",
              "      <td>4.000000</td>\n",
              "      <td>4.000000</td>\n",
              "      <td>2.000000</td>\n",
              "      <td>2.000000</td>\n",
              "      <td>2.000000</td>\n",
              "    </tr>\n",
              "  </tbody>\n",
              "</table>\n",
              "</div>"
            ],
            "text/plain": [
              "       Creditability  Account Balance  ...    Telephone  Foreign Worker\n",
              "count    1000.000000      1000.000000  ...  1000.000000     1000.000000\n",
              "mean        0.700000         2.577000  ...     1.404000        1.037000\n",
              "std         0.458487         1.257638  ...     0.490943        0.188856\n",
              "min         0.000000         1.000000  ...     1.000000        1.000000\n",
              "25%         0.000000         1.000000  ...     1.000000        1.000000\n",
              "50%         1.000000         2.000000  ...     1.000000        1.000000\n",
              "75%         1.000000         4.000000  ...     2.000000        1.000000\n",
              "max         1.000000         4.000000  ...     2.000000        2.000000\n",
              "\n",
              "[8 rows x 21 columns]"
            ]
          },
          "metadata": {
            "tags": []
          },
          "execution_count": 17
        }
      ]
    },
    {
      "cell_type": "markdown",
      "metadata": {
        "id": "yMi3CrEjD703"
      },
      "source": [
        "Compare this result to what we had earlier.\r\n",
        "- The results are the same as previous."
      ]
    },
    {
      "cell_type": "code",
      "metadata": {
        "colab": {
          "base_uri": "https://localhost:8080/"
        },
        "id": "l03C4K52D5ha",
        "outputId": "59b74a2d-fadb-4ce3-fb6b-1005b135a4d7"
      },
      "source": [
        "credit_train = credit_rand.iloc[0:700]\r\n",
        "credit_test = credit_rand.iloc[700:1000]\r\n",
        "target_train = target_rand.iloc[0:700]\r\n",
        "target_test = target_rand.iloc[700:1000]\r\n",
        "\r\n",
        "print(target_train.value_counts()/700)\r\n",
        "print(target_test.value_counts()/300)"
      ],
      "execution_count": null,
      "outputs": [
        {
          "output_type": "stream",
          "text": [
            "1    0.691429\n",
            "0    0.308571\n",
            "Name: Creditability, dtype: float64\n",
            "1    0.72\n",
            "0    0.28\n",
            "Name: Creditability, dtype: float64\n"
          ],
          "name": "stdout"
        }
      ]
    },
    {
      "cell_type": "markdown",
      "metadata": {
        "id": "bTfWtMFQEVcI"
      },
      "source": [
        "#### Method 2:"
      ]
    },
    {
      "cell_type": "code",
      "metadata": {
        "id": "Do2ZN1IuEYeH"
      },
      "source": [
        "# Method 2 of splitting the model\r\n",
        "from sklearn.model_selection import train_test_split\r\n",
        "\r\n",
        "y = target\r\n",
        "X = credit.drop(['Creditability'],axis=1)\r\n",
        "\r\n",
        "X_train, X_test, y_train, y_test = train_test_split(X, y, test_size=0.30, random_state=52)\r\n"
      ],
      "execution_count": null,
      "outputs": []
    },
    {
      "cell_type": "markdown",
      "metadata": {
        "id": "hpiNd7NmFAVB"
      },
      "source": [
        "### Step 3: Training a model on the data"
      ]
    },
    {
      "cell_type": "code",
      "metadata": {
        "id": "3NvXBnVWFREQ",
        "colab": {
          "base_uri": "https://localhost:8080/",
          "height": 69
        },
        "outputId": "be85b50f-558b-4ffa-fc9f-8ae026a522e2"
      },
      "source": [
        "# Design decision tree\r\n",
        "from sklearn import tree\r\n",
        "from sklearn.tree import DecisionTreeClassifier\r\n",
        "\r\n",
        "model = tree.DecisionTreeClassifier()\r\n",
        "model = model.fit(X_train, y_train)\r\n",
        "\r\n",
        "# Visualize the model\r\n",
        "\r\n",
        "from IPython.display import SVG\r\n",
        "from graphviz import Source\r\n",
        "from IPython.display import display\r\n",
        "graph = Source(tree.export_graphviz(model, out_file=None\r\n",
        ", feature_names=X.columns, class_names=['default', 'no default']\r\n",
        ", filled = True))\r\n",
        "display(SVG(graph.pipe(format='svg')))\r\n",
        "\r\n",
        "# tree.export_text(model) # text_representation of model"
      ],
      "execution_count": 28,
      "outputs": [
        {
          "output_type": "execute_result",
          "data": {
            "application/vnd.google.colaboratory.intrinsic+json": {
              "type": "string"
            },
            "text/plain": [
              "'|--- feature_0 <= 2.50\\n|   |--- feature_1 <= 11.50\\n|   |   |--- feature_16 <= 3.50\\n|   |   |   |--- feature_12 <= 24.50\\n|   |   |   |   |--- feature_8 <= 2.50\\n|   |   |   |   |   |--- feature_7 <= 2.00\\n|   |   |   |   |   |   |--- class: 1\\n|   |   |   |   |   |--- feature_7 >  2.00\\n|   |   |   |   |   |   |--- class: 0\\n|   |   |   |   |--- feature_8 >  2.50\\n|   |   |   |   |   |--- class: 1\\n|   |   |   |--- feature_12 >  24.50\\n|   |   |   |   |--- feature_2 <= 1.50\\n|   |   |   |   |   |--- class: 0\\n|   |   |   |   |--- feature_2 >  1.50\\n|   |   |   |   |   |--- class: 1\\n|   |   |--- feature_16 >  3.50\\n|   |   |   |--- feature_7 <= 2.50\\n|   |   |   |   |--- class: 0\\n|   |   |   |--- feature_7 >  2.50\\n|   |   |   |   |--- feature_3 <= 1.00\\n|   |   |   |   |   |--- feature_0 <= 1.50\\n|   |   |   |   |   |   |--- class: 1\\n|   |   |   |   |   |--- feature_0 >  1.50\\n|   |   |   |   |   |   |--- class: 0\\n|   |   |   |   |--- feature_3 >  1.00\\n|   |   |   |   |   |--- class: 1\\n|   |--- feature_1 >  11.50\\n|   |   |--- feature_1 <= 31.50\\n|   |   |   |--- feature_3 <= 0.50\\n|   |   |   |   |--- feature_4 <= 1392.00\\n|   |   |   |   |   |--- feature_12 <= 46.50\\n|   |   |   |   |   |   |--- feature_12 <= 22.50\\n|   |   |   |   |   |   |   |--- class: 1\\n|   |   |   |   |   |   |--- feature_12 >  22.50\\n|   |   |   |   |   |   |   |--- feature_2 <= 2.50\\n|   |   |   |   |   |   |   |   |--- class: 0\\n|   |   |   |   |   |   |   |--- feature_2 >  2.50\\n|   |   |   |   |   |   |   |   |--- feature_4 <= 1338.50\\n|   |   |   |   |   |   |   |   |   |--- class: 0\\n|   |   |   |   |   |   |   |   |--- feature_4 >  1338.50\\n|   |   |   |   |   |   |   |   |   |--- class: 1\\n|   |   |   |   |   |--- feature_12 >  46.50\\n|   |   |   |   |   |   |--- feature_1 <= 22.50\\n|   |   |   |   |   |   |   |--- class: 1\\n|   |   |   |   |   |   |--- feature_1 >  22.50\\n|   |   |   |   |   |   |   |--- class: 0\\n|   |   |   |   |--- feature_4 >  1392.00\\n|   |   |   |   |   |--- feature_9 <= 1.50\\n|   |   |   |   |   |   |--- feature_2 <= 1.50\\n|   |   |   |   |   |   |   |--- feature_1 <= 22.50\\n|   |   |   |   |   |   |   |   |--- class: 0\\n|   |   |   |   |   |   |   |--- feature_1 >  22.50\\n|   |   |   |   |   |   |   |   |--- class: 1\\n|   |   |   |   |   |   |--- feature_2 >  1.50\\n|   |   |   |   |   |   |   |--- feature_4 <= 2545.00\\n|   |   |   |   |   |   |   |   |--- class: 1\\n|   |   |   |   |   |   |   |--- feature_4 >  2545.00\\n|   |   |   |   |   |   |   |   |--- feature_4 <= 2808.50\\n|   |   |   |   |   |   |   |   |   |--- class: 0\\n|   |   |   |   |   |   |   |   |--- feature_4 >  2808.50\\n|   |   |   |   |   |   |   |   |   |--- feature_1 <= 26.00\\n|   |   |   |   |   |   |   |   |   |   |--- feature_8 <= 2.50\\n|   |   |   |   |   |   |   |   |   |   |   |--- truncated branch of depth 2\\n|   |   |   |   |   |   |   |   |   |   |--- feature_8 >  2.50\\n|   |   |   |   |   |   |   |   |   |   |   |--- class: 1\\n|   |   |   |   |   |   |   |   |   |--- feature_1 >  26.00\\n|   |   |   |   |   |   |   |   |   |   |--- class: 0\\n|   |   |   |   |   |--- feature_9 >  1.50\\n|   |   |   |   |   |   |--- class: 0\\n|   |   |   |--- feature_3 >  0.50\\n|   |   |   |   |--- feature_9 <= 2.50\\n|   |   |   |   |   |--- feature_5 <= 2.50\\n|   |   |   |   |   |   |--- feature_3 <= 1.50\\n|   |   |   |   |   |   |   |--- feature_1 <= 15.00\\n|   |   |   |   |   |   |   |   |--- feature_4 <= 2623.00\\n|   |   |   |   |   |   |   |   |   |--- class: 1\\n|   |   |   |   |   |   |   |   |--- feature_4 >  2623.00\\n|   |   |   |   |   |   |   |   |   |--- class: 0\\n|   |   |   |   |   |   |   |--- feature_1 >  15.00\\n|   |   |   |   |   |   |   |   |--- class: 1\\n|   |   |   |   |   |   |--- feature_3 >  1.50\\n|   |   |   |   |   |   |   |--- feature_4 <= 7619.50\\n|   |   |   |   |   |   |   |   |--- feature_3 <= 7.00\\n|   |   |   |   |   |   |   |   |   |--- feature_4 <= 3571.00\\n|   |   |   |   |   |   |   |   |   |   |--- feature_1 <= 16.50\\n|   |   |   |   |   |   |   |   |   |   |   |--- truncated branch of depth 8\\n|   |   |   |   |   |   |   |   |   |   |--- feature_1 >  16.50\\n|   |   |   |   |   |   |   |   |   |   |   |--- truncated branch of depth 6\\n|   |   |   |   |   |   |   |   |   |--- feature_4 >  3571.00\\n|   |   |   |   |   |   |   |   |   |   |--- feature_2 <= 1.50\\n|   |   |   |   |   |   |   |   |   |   |   |--- class: 0\\n|   |   |   |   |   |   |   |   |   |   |--- feature_2 >  1.50\\n|   |   |   |   |   |   |   |   |   |   |   |--- truncated branch of depth 5\\n|   |   |   |   |   |   |   |   |--- feature_3 >  7.00\\n|   |   |   |   |   |   |   |   |   |--- feature_10 <= 3.50\\n|   |   |   |   |   |   |   |   |   |   |--- class: 1\\n|   |   |   |   |   |   |   |   |   |--- feature_10 >  3.50\\n|   |   |   |   |   |   |   |   |   |   |--- feature_1 <= 18.00\\n|   |   |   |   |   |   |   |   |   |   |   |--- class: 1\\n|   |   |   |   |   |   |   |   |   |   |--- feature_1 >  18.00\\n|   |   |   |   |   |   |   |   |   |   |   |--- truncated branch of depth 2\\n|   |   |   |   |   |   |   |--- feature_4 >  7619.50\\n|   |   |   |   |   |   |   |   |--- class: 0\\n|   |   |   |   |   |--- feature_5 >  2.50\\n|   |   |   |   |   |   |--- feature_12 <= 60.50\\n|   |   |   |   |   |   |   |--- feature_3 <= 9.50\\n|   |   |   |   |   |   |   |   |--- feature_13 <= 2.50\\n|   |   |   |   |   |   |   |   |   |--- class: 1\\n|   |   |   |   |   |   |   |   |--- feature_13 >  2.50\\n|   |   |   |   |   |   |   |   |   |--- feature_12 <= 31.50\\n|   |   |   |   |   |   |   |   |   |   |--- feature_7 <= 1.50\\n|   |   |   |   |   |   |   |   |   |   |   |--- class: 1\\n|   |   |   |   |   |   |   |   |   |   |--- feature_7 >  1.50\\n|   |   |   |   |   |   |   |   |   |   |   |--- truncated branch of depth 4\\n|   |   |   |   |   |   |   |   |   |--- feature_12 >  31.50\\n|   |   |   |   |   |   |   |   |   |   |--- feature_4 <= 6989.50\\n|   |   |   |   |   |   |   |   |   |   |   |--- class: 1\\n|   |   |   |   |   |   |   |   |   |   |--- feature_4 >  6989.50\\n|   |   |   |   |   |   |   |   |   |   |   |--- class: 0\\n|   |   |   |   |   |   |   |--- feature_3 >  9.50\\n|   |   |   |   |   |   |   |   |--- class: 0\\n|   |   |   |   |   |   |--- feature_12 >  60.50\\n|   |   |   |   |   |   |   |--- class: 0\\n|   |   |   |   |--- feature_9 >  2.50\\n|   |   |   |   |   |--- feature_11 <= 2.50\\n|   |   |   |   |   |   |--- class: 1\\n|   |   |   |   |   |--- feature_11 >  2.50\\n|   |   |   |   |   |   |--- feature_16 <= 2.50\\n|   |   |   |   |   |   |   |--- class: 0\\n|   |   |   |   |   |   |--- feature_16 >  2.50\\n|   |   |   |   |   |   |   |--- class: 1\\n|   |   |--- feature_1 >  31.50\\n|   |   |   |--- feature_6 <= 1.50\\n|   |   |   |   |--- class: 1\\n|   |   |   |--- feature_6 >  1.50\\n|   |   |   |   |--- feature_5 <= 4.00\\n|   |   |   |   |   |--- feature_18 <= 1.50\\n|   |   |   |   |   |   |--- feature_4 <= 2353.50\\n|   |   |   |   |   |   |   |--- class: 1\\n|   |   |   |   |   |   |--- feature_4 >  2353.50\\n|   |   |   |   |   |   |   |--- feature_12 <= 25.50\\n|   |   |   |   |   |   |   |   |--- class: 0\\n|   |   |   |   |   |   |   |--- feature_12 >  25.50\\n|   |   |   |   |   |   |   |   |--- feature_11 <= 2.50\\n|   |   |   |   |   |   |   |   |   |--- feature_4 <= 3166.00\\n|   |   |   |   |   |   |   |   |   |   |--- class: 0\\n|   |   |   |   |   |   |   |   |   |--- feature_4 >  3166.00\\n|   |   |   |   |   |   |   |   |   |   |--- feature_4 <= 8055.50\\n|   |   |   |   |   |   |   |   |   |   |   |--- truncated branch of depth 3\\n|   |   |   |   |   |   |   |   |   |   |--- feature_4 >  8055.50\\n|   |   |   |   |   |   |   |   |   |   |   |--- class: 0\\n|   |   |   |   |   |   |   |   |--- feature_11 >  2.50\\n|   |   |   |   |   |   |   |   |   |--- feature_5 <= 1.50\\n|   |   |   |   |   |   |   |   |   |   |--- feature_17 <= 1.50\\n|   |   |   |   |   |   |   |   |   |   |   |--- class: 0\\n|   |   |   |   |   |   |   |   |   |   |--- feature_17 >  1.50\\n|   |   |   |   |   |   |   |   |   |   |   |--- truncated branch of depth 2\\n|   |   |   |   |   |   |   |   |   |--- feature_5 >  1.50\\n|   |   |   |   |   |   |   |   |   |   |--- feature_6 <= 3.50\\n|   |   |   |   |   |   |   |   |   |   |   |--- class: 0\\n|   |   |   |   |   |   |   |   |   |   |--- feature_6 >  3.50\\n|   |   |   |   |   |   |   |   |   |   |   |--- class: 1\\n|   |   |   |   |   |--- feature_18 >  1.50\\n|   |   |   |   |   |   |--- feature_2 <= 3.50\\n|   |   |   |   |   |   |   |--- class: 0\\n|   |   |   |   |   |   |--- feature_2 >  3.50\\n|   |   |   |   |   |   |   |--- feature_12 <= 32.00\\n|   |   |   |   |   |   |   |   |--- class: 0\\n|   |   |   |   |   |   |   |--- feature_12 >  32.00\\n|   |   |   |   |   |   |   |   |--- class: 1\\n|   |   |   |   |--- feature_5 >  4.00\\n|   |   |   |   |   |--- feature_10 <= 2.50\\n|   |   |   |   |   |   |--- class: 1\\n|   |   |   |   |   |--- feature_10 >  2.50\\n|   |   |   |   |   |   |--- feature_2 <= 2.50\\n|   |   |   |   |   |   |   |--- class: 0\\n|   |   |   |   |   |   |--- feature_2 >  2.50\\n|   |   |   |   |   |   |   |--- class: 1\\n|--- feature_0 >  2.50\\n|   |--- feature_4 <= 9569.00\\n|   |   |--- feature_13 <= 1.50\\n|   |   |   |--- feature_3 <= 7.50\\n|   |   |   |   |--- feature_3 <= 1.50\\n|   |   |   |   |   |--- feature_1 <= 15.00\\n|   |   |   |   |   |   |--- class: 1\\n|   |   |   |   |   |--- feature_1 >  15.00\\n|   |   |   |   |   |   |--- feature_4 <= 7654.50\\n|   |   |   |   |   |   |   |--- feature_7 <= 1.50\\n|   |   |   |   |   |   |   |   |--- feature_11 <= 2.50\\n|   |   |   |   |   |   |   |   |   |--- class: 0\\n|   |   |   |   |   |   |   |   |--- feature_11 >  2.50\\n|   |   |   |   |   |   |   |   |   |--- class: 1\\n|   |   |   |   |   |   |   |--- feature_7 >  1.50\\n|   |   |   |   |   |   |   |   |--- class: 0\\n|   |   |   |   |   |   |--- feature_4 >  7654.50\\n|   |   |   |   |   |   |   |--- class: 1\\n|   |   |   |   |--- feature_3 >  1.50\\n|   |   |   |   |   |--- feature_1 <= 21.00\\n|   |   |   |   |   |   |--- class: 1\\n|   |   |   |   |   |--- feature_1 >  21.00\\n|   |   |   |   |   |   |--- feature_18 <= 1.50\\n|   |   |   |   |   |   |   |--- class: 1\\n|   |   |   |   |   |   |--- feature_18 >  1.50\\n|   |   |   |   |   |   |   |--- class: 0\\n|   |   |   |--- feature_3 >  7.50\\n|   |   |   |   |--- class: 0\\n|   |   |--- feature_13 >  1.50\\n|   |   |   |--- feature_12 <= 29.50\\n|   |   |   |   |--- feature_1 <= 34.50\\n|   |   |   |   |   |--- feature_15 <= 2.50\\n|   |   |   |   |   |   |--- feature_12 <= 19.50\\n|   |   |   |   |   |   |   |--- class: 0\\n|   |   |   |   |   |   |--- feature_12 >  19.50\\n|   |   |   |   |   |   |   |--- feature_4 <= 475.50\\n|   |   |   |   |   |   |   |   |--- class: 0\\n|   |   |   |   |   |   |   |--- feature_4 >  475.50\\n|   |   |   |   |   |   |   |   |--- feature_16 <= 2.50\\n|   |   |   |   |   |   |   |   |   |--- feature_12 <= 27.50\\n|   |   |   |   |   |   |   |   |   |   |--- feature_4 <= 1123.00\\n|   |   |   |   |   |   |   |   |   |   |   |--- class: 1\\n|   |   |   |   |   |   |   |   |   |   |--- feature_4 >  1123.00\\n|   |   |   |   |   |   |   |   |   |   |   |--- truncated branch of depth 3\\n|   |   |   |   |   |   |   |   |   |--- feature_12 >  27.50\\n|   |   |   |   |   |   |   |   |   |   |--- class: 0\\n|   |   |   |   |   |   |   |   |--- feature_16 >  2.50\\n|   |   |   |   |   |   |   |   |   |--- feature_12 <= 23.50\\n|   |   |   |   |   |   |   |   |   |   |--- feature_3 <= 4.00\\n|   |   |   |   |   |   |   |   |   |   |   |--- truncated branch of depth 3\\n|   |   |   |   |   |   |   |   |   |   |--- feature_3 >  4.00\\n|   |   |   |   |   |   |   |   |   |   |   |--- class: 0\\n|   |   |   |   |   |   |   |   |   |--- feature_12 >  23.50\\n|   |   |   |   |   |   |   |   |   |   |--- feature_3 <= 0.50\\n|   |   |   |   |   |   |   |   |   |   |   |--- truncated branch of depth 3\\n|   |   |   |   |   |   |   |   |   |   |--- feature_3 >  0.50\\n|   |   |   |   |   |   |   |   |   |   |   |--- class: 1\\n|   |   |   |   |   |--- feature_15 >  2.50\\n|   |   |   |   |   |   |--- class: 0\\n|   |   |   |   |--- feature_1 >  34.50\\n|   |   |   |   |   |--- feature_2 <= 2.50\\n|   |   |   |   |   |   |--- feature_16 <= 3.50\\n|   |   |   |   |   |   |   |--- feature_4 <= 4064.50\\n|   |   |   |   |   |   |   |   |--- class: 1\\n|   |   |   |   |   |   |   |--- feature_4 >  4064.50\\n|   |   |   |   |   |   |   |   |--- feature_4 <= 5029.00\\n|   |   |   |   |   |   |   |   |   |--- class: 0\\n|   |   |   |   |   |   |   |   |--- feature_4 >  5029.00\\n|   |   |   |   |   |   |   |   |   |--- class: 1\\n|   |   |   |   |   |   |--- feature_16 >  3.50\\n|   |   |   |   |   |   |   |--- class: 0\\n|   |   |   |   |   |--- feature_2 >  2.50\\n|   |   |   |   |   |   |--- class: 0\\n|   |   |   |--- feature_12 >  29.50\\n|   |   |   |   |--- feature_14 <= 2.50\\n|   |   |   |   |   |--- feature_9 <= 1.50\\n|   |   |   |   |   |   |--- feature_12 <= 33.50\\n|   |   |   |   |   |   |   |--- feature_10 <= 2.50\\n|   |   |   |   |   |   |   |   |--- feature_6 <= 1.50\\n|   |   |   |   |   |   |   |   |   |--- class: 0\\n|   |   |   |   |   |   |   |   |--- feature_6 >  1.50\\n|   |   |   |   |   |   |   |   |   |--- class: 1\\n|   |   |   |   |   |   |   |--- feature_10 >  2.50\\n|   |   |   |   |   |   |   |   |--- feature_11 <= 1.50\\n|   |   |   |   |   |   |   |   |   |--- class: 1\\n|   |   |   |   |   |   |   |   |--- feature_11 >  1.50\\n|   |   |   |   |   |   |   |   |   |--- feature_18 <= 1.50\\n|   |   |   |   |   |   |   |   |   |   |--- class: 0\\n|   |   |   |   |   |   |   |   |   |--- feature_18 >  1.50\\n|   |   |   |   |   |   |   |   |   |   |--- class: 1\\n|   |   |   |   |   |   |--- feature_12 >  33.50\\n|   |   |   |   |   |   |   |--- feature_4 <= 2526.50\\n|   |   |   |   |   |   |   |   |--- class: 1\\n|   |   |   |   |   |   |   |--- feature_4 >  2526.50\\n|   |   |   |   |   |   |   |   |--- feature_4 <= 2558.00\\n|   |   |   |   |   |   |   |   |   |--- class: 0\\n|   |   |   |   |   |   |   |   |--- feature_4 >  2558.00\\n|   |   |   |   |   |   |   |   |   |--- feature_3 <= 5.50\\n|   |   |   |   |   |   |   |   |   |   |--- class: 1\\n|   |   |   |   |   |   |   |   |   |--- feature_3 >  5.50\\n|   |   |   |   |   |   |   |   |   |   |--- feature_18 <= 1.50\\n|   |   |   |   |   |   |   |   |   |   |   |--- class: 1\\n|   |   |   |   |   |   |   |   |   |   |--- feature_18 >  1.50\\n|   |   |   |   |   |   |   |   |   |   |   |--- class: 0\\n|   |   |   |   |   |--- feature_9 >  1.50\\n|   |   |   |   |   |   |--- feature_6 <= 3.50\\n|   |   |   |   |   |   |   |--- feature_7 <= 3.00\\n|   |   |   |   |   |   |   |   |--- class: 1\\n|   |   |   |   |   |   |   |--- feature_7 >  3.00\\n|   |   |   |   |   |   |   |   |--- class: 0\\n|   |   |   |   |   |   |--- feature_6 >  3.50\\n|   |   |   |   |   |   |   |--- class: 1\\n|   |   |   |   |--- feature_14 >  2.50\\n|   |   |   |   |   |--- feature_13 <= 2.50\\n|   |   |   |   |   |   |--- class: 0\\n|   |   |   |   |   |--- feature_13 >  2.50\\n|   |   |   |   |   |   |--- feature_17 <= 1.50\\n|   |   |   |   |   |   |   |--- feature_15 <= 1.50\\n|   |   |   |   |   |   |   |   |--- class: 1\\n|   |   |   |   |   |   |   |--- feature_15 >  1.50\\n|   |   |   |   |   |   |   |   |--- feature_0 <= 3.50\\n|   |   |   |   |   |   |   |   |   |--- feature_1 <= 12.50\\n|   |   |   |   |   |   |   |   |   |   |--- class: 1\\n|   |   |   |   |   |   |   |   |   |--- feature_1 >  12.50\\n|   |   |   |   |   |   |   |   |   |   |--- class: 0\\n|   |   |   |   |   |   |   |   |--- feature_0 >  3.50\\n|   |   |   |   |   |   |   |   |   |--- class: 1\\n|   |   |   |   |   |   |--- feature_17 >  1.50\\n|   |   |   |   |   |   |   |--- feature_4 <= 1576.00\\n|   |   |   |   |   |   |   |   |--- class: 0\\n|   |   |   |   |   |   |   |--- feature_4 >  1576.00\\n|   |   |   |   |   |   |   |   |--- class: 1\\n|   |--- feature_4 >  9569.00\\n|   |   |--- feature_8 <= 2.50\\n|   |   |   |--- class: 0\\n|   |   |--- feature_8 >  2.50\\n|   |   |   |--- feature_11 <= 3.50\\n|   |   |   |   |--- class: 1\\n|   |   |   |--- feature_11 >  3.50\\n|   |   |   |   |--- feature_3 <= 0.50\\n|   |   |   |   |   |--- class: 0\\n|   |   |   |   |--- feature_3 >  0.50\\n|   |   |   |   |   |--- class: 1\\n'"
            ]
          },
          "metadata": {
            "tags": []
          },
          "execution_count": 28
        }
      ]
    },
    {
      "cell_type": "markdown",
      "metadata": {
        "id": "Rtf6y6BtGk5b"
      },
      "source": [
        "### Step 4: Evaluating Model Performance\r\n"
      ]
    },
    {
      "cell_type": "code",
      "metadata": {
        "colab": {
          "base_uri": "https://localhost:8080/"
        },
        "id": "HvZxmyBsGqx0",
        "outputId": "c785f7dd-22c4-482c-94f0-ff2bb57964ca"
      },
      "source": [
        "from sklearn.metrics import confusion_matrix\r\n",
        "from sklearn.metrics import accuracy_score\r\n",
        "\r\n",
        "y_predict = model.predict(X_test)\r\n",
        "print(confusion_matrix(y_test, y_predict))\r\n",
        "print(accuracy_score(y_test, y_predict)*100)"
      ],
      "execution_count": 29,
      "outputs": [
        {
          "output_type": "stream",
          "text": [
            "[[ 42  42]\n",
            " [ 41 175]]\n",
            "72.33333333333334\n"
          ],
          "name": "stdout"
        }
      ]
    },
    {
      "cell_type": "markdown",
      "metadata": {
        "id": "bmcOf0buIO9M"
      },
      "source": [
        "### Question 1\r\n",
        "**If you see the accuracy 0f 100%, what does it mean? Does this mean that we design a perfect model? This is some thing that needs more discussion. Write a few sentences about accuracy of 100%.**  \r\n",
        "**Answer:**  ?????????????????????????????????????????????????"
      ]
    },
    {
      "cell_type": "markdown",
      "metadata": {
        "id": "1N6AQGqlIuH0"
      },
      "source": [
        "## Method #2. Random forest"
      ]
    },
    {
      "cell_type": "code",
      "metadata": {
        "colab": {
          "base_uri": "https://localhost:8080/"
        },
        "id": "k987EdXJIxzZ",
        "outputId": "b037d93c-6451-4a28-c401-ca19d68f29de"
      },
      "source": [
        "# Part 2 Random forest\r\n",
        "from sklearn.ensemble import RandomForestClassifier\r\n",
        "clf = RandomForestClassifier()\r\n",
        "clf.fit(X_train, y_train)\r\n",
        "y_predict = clf.predict(X_test)\r\n",
        "print(confusion_matrix(y_test, y_predict))\r\n",
        "print(accuracy_score(y_test, y_predict)*100)"
      ],
      "execution_count": 30,
      "outputs": [
        {
          "output_type": "stream",
          "text": [
            "[[ 37  47]\n",
            " [ 28 188]]\n",
            "75.0\n"
          ],
          "name": "stdout"
        }
      ]
    },
    {
      "cell_type": "markdown",
      "metadata": {
        "id": "HIBMixswJHhb"
      },
      "source": [
        "### Question 2 \r\n",
        "**What are the three most important features in this model.**  \r\n",
        "**Answer:**  ?????????????????????????????????????????????????"
      ]
    },
    {
      "cell_type": "code",
      "metadata": {
        "colab": {
          "base_uri": "https://localhost:8080/"
        },
        "id": "MTg0fam1JIMz",
        "outputId": "f7450d1b-dc4f-4067-c268-fb2588e55e92"
      },
      "source": [
        "random.seed(23458) #Now, Change the random seed to 23458 and find the new accuracy of random forest.\r\n",
        "clf.fit(X_train, y_train)\r\n",
        "y_predict = clf.predict(X_test)\r\n",
        "print(confusion_matrix(y_test, y_predict))\r\n",
        "print(accuracy_score(y_test, y_predict)*100)"
      ],
      "execution_count": 31,
      "outputs": [
        {
          "output_type": "stream",
          "text": [
            "[[ 37  47]\n",
            " [ 31 185]]\n",
            "74.0\n"
          ],
          "name": "stdout"
        }
      ]
    }
  ]
}